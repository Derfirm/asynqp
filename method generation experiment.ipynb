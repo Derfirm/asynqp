{
 "metadata": {
  "name": "",
  "signature": "sha256:a7c66d6c62739537c5090edf88c711ed53474072bb84a87a0082cf977a6ba3bc"
 },
 "nbformat": 3,
 "nbformat_minor": 0,
 "worksheets": [
  {
   "cells": [
    {
     "cell_type": "code",
     "collapsed": false,
     "input": [
      "import abc\n",
      "from collections import OrderedDict\n",
      "from xml.etree import ElementTree"
     ],
     "language": "python",
     "metadata": {},
     "outputs": [],
     "prompt_number": 24
    },
    {
     "cell_type": "code",
     "collapsed": false,
     "input": [
      "MAX_OCTET = 0xFF\n",
      "MAX_SHORT = 0xFFFF\n",
      "MAX_LONG = 0xFFFFFFFF\n",
      "MAX_LONG_LONG = 0xFFFFFFFFFFFFFFFF"
     ],
     "language": "python",
     "metadata": {},
     "outputs": [],
     "prompt_number": 2
    },
    {
     "cell_type": "code",
     "collapsed": false,
     "input": [
      "class AMQPType(abc.ABC):\n",
      "    def __init__(self, order, value):\n",
      "        if not self.isvalid(value):\n",
      "            raise TypeError('{} is not a valid value for type {}'.format(value, type(self).__name__))\n",
      "        self.order = order\n",
      "        self.value = value\n",
      "        \n",
      "    @abc.abstractmethod\n",
      "    def isvalid(self, value):\n",
      "        pass\n",
      "\n",
      "class Bit(AMQPType):\n",
      "    def isvalid(self, value):\n",
      "        return isinstance(value, bool)\n",
      "\n",
      "class Octet(AMQPType):\n",
      "    def isvalid(self, value):\n",
      "        return isinstance(value, int) and 0 <= value <= MAX_OCTET\n",
      "\n",
      "class Short(AMQPType):\n",
      "    def isvalid(self, value):\n",
      "        return isinstance(value, int) and 0 <= value <= MAX_SHORT\n",
      "\n",
      "class Long(AMQPType):\n",
      "    def isvalid(self, value):\n",
      "        return isinstance(value, int) and 0 <= value <= MAX_LONG\n",
      "\n",
      "class LongLong(AMQPType):\n",
      "    def isvalid(self, value):\n",
      "        return isinstance(value, int) and 0 <= value <= MAX_LONG_LONG\n",
      "\n",
      "class ShortStr(AMQPType):\n",
      "    def isvalid(self, value):\n",
      "        return isinstance(value, str) and len(value) <= MAX_OCTET\n",
      "\n",
      "class LongStr(AMQPType):\n",
      "    def isvalid(self, value):\n",
      "        return isinstance(value, str) and len(value) <= MAX_LONG\n",
      "\n",
      "class Table(AMQPType):\n",
      "    def isvalid(self, value):\n",
      "        return isinstance(value, dict)\n",
      "\n",
      "FIELD_TYPES = {\n",
      "    'bit': Bit,\n",
      "    'octet': Octet,\n",
      "    'short': Short,\n",
      "    'long': Long,\n",
      "    'longlong': LongLong,\n",
      "    'table': Table,\n",
      "    'longstr': LongStr,\n",
      "    'shortstr': ShortStr\n",
      "}\n",
      "\n",
      "\n",
      "def make_method_cls(name, fields):\n",
      "    def __init__(self, *args):\n",
      "        if len(args) != len(fields):\n",
      "            raise TypeError('__init__ takes {} arguments but {} were given'.format(len(items), len(fields)))\n",
      "\n",
      "        self.fields = OrderedDict()\n",
      "        for n, ((fieldname, cls), value) in enumerate(zip(fields, args)):\n",
      "            self.fields[fieldname] = cls(n, value)\n",
      "    \n",
      "    return type(name, (), {'__init__':__init__})"
     ],
     "language": "python",
     "metadata": {},
     "outputs": [],
     "prompt_number": 25
    },
    {
     "cell_type": "code",
     "collapsed": false,
     "input": [
      "tree = ElementTree.parse('amqp0-9-1.xml')"
     ],
     "language": "python",
     "metadata": {},
     "outputs": [],
     "prompt_number": 26
    },
    {
     "cell_type": "code",
     "collapsed": false,
     "input": [
      "constants = {e.attrib['name']: int(e.attrib['value']) for e in tree.findall('constant')}\n",
      "domain_values = {e.attrib['name']: e.attrib['type'] for e in tree.findall('domain')}"
     ],
     "language": "python",
     "metadata": {},
     "outputs": [],
     "prompt_number": 27
    },
    {
     "cell_type": "code",
     "collapsed": false,
     "input": [
      "classes = {}\n",
      "for class_elem in tree.findall('class'):\n",
      "    class_methods = {}\n",
      "    for method in class_elem.findall('method'):\n",
      "        fields = []\n",
      "        for elem in method.findall('field'):\n",
      "            fieldname = elem.attrib['name'].replace('-','_')\n",
      "            try:\n",
      "                domain = elem.attrib['domain']\n",
      "            except KeyError:\n",
      "                fieldtype = elem.attrib['type']\n",
      "            else:\n",
      "                fieldtype = domain_values[elem.attrib['domain']]\n",
      "            cls = FIELD_TYPES[fieldtype]\n",
      "            fields.append((fieldname, cls))\n",
      "        class_methods[method.attrib['name'].capitalize().replace('-ok', 'OK')] = fields\n",
      "    \n",
      "    classes[class_elem.attrib['name'].capitalize()] = class_methods"
     ],
     "language": "python",
     "metadata": {},
     "outputs": [],
     "prompt_number": 28
    },
    {
     "cell_type": "code",
     "collapsed": false,
     "input": [
      "methods = {}\n",
      "\n",
      "for class_name, ms in classes.items():\n",
      "    for method_name, field_infos in ms.items():\n",
      "        name = class_name + method_name\n",
      "        methods[name] = make_method_cls(name, field_infos)"
     ],
     "language": "python",
     "metadata": {},
     "outputs": [],
     "prompt_number": 29
    },
    {
     "cell_type": "code",
     "collapsed": false,
     "input": [
      "s = methods['ConnectionStart'](0, 9, {}, '', '')"
     ],
     "language": "python",
     "metadata": {},
     "outputs": [],
     "prompt_number": 30
    },
    {
     "cell_type": "code",
     "collapsed": false,
     "input": [
      "s.fields"
     ],
     "language": "python",
     "metadata": {},
     "outputs": [
      {
       "metadata": {},
       "output_type": "pyout",
       "prompt_number": 32,
       "text": [
        "OrderedDict([('version_major', <__main__.Octet object at 0x1054ad7f0>), ('version_minor', <__main__.Octet object at 0x1054adcf8>), ('server_properties', <__main__.Table object at 0x1054ade80>), ('mechanisms', <__main__.LongStr object at 0x1054adb38>), ('locales', <__main__.LongStr object at 0x1054adb70>)])"
       ]
      }
     ],
     "prompt_number": 32
    },
    {
     "cell_type": "code",
     "collapsed": false,
     "input": [],
     "language": "python",
     "metadata": {},
     "outputs": []
    }
   ],
   "metadata": {}
  }
 ]
}